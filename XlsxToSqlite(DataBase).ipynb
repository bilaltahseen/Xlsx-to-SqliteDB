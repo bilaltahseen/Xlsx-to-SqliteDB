{
 "cells": [
  {
   "cell_type": "code",
   "execution_count": 13,
   "metadata": {},
   "outputs": [],
   "source": [
    "#Import these librarirs \n",
    "import pandas as pd\n",
    "import sqlite3 #if not installed then instal (pip install sqlite3)"
   ]
  },
  {
   "cell_type": "code",
   "execution_count": 14,
   "metadata": {},
   "outputs": [],
   "source": [
    "#Load your database by\n",
    "dataFrame = pd.read_excel('love Always,Liz CBD Oil.xlsx') # load your file name by typing the name in the doubleqoute with .xlsx \n",
    "                                                #if you get any error you need to install xlsx reader "
   ]
  },
  {
   "cell_type": "code",
   "execution_count": 15,
   "metadata": {},
   "outputs": [
    {
     "data": {
      "text/plain": [
       "Index(['Name', 'Address', 'City', 'Contact'], dtype='object')"
      ]
     },
     "execution_count": 15,
     "metadata": {},
     "output_type": "execute_result"
    }
   ],
   "source": [
    "dataFrame_columns = dataFrame.columns\n",
    "dataFrame_columns"
   ]
  },
  {
   "cell_type": "code",
   "execution_count": 16,
   "metadata": {},
   "outputs": [],
   "source": [
    "for column in dataFrame_columns:\n",
    "    dataFrame[column]=dataFrame[column].str.replace(u'\\xa0', u'')  #This is used to replace whitespaces with empty string"
   ]
  },
  {
   "cell_type": "code",
   "execution_count": 17,
   "metadata": {},
   "outputs": [
    {
     "data": {
      "text/html": [
       "<div>\n",
       "<style scoped>\n",
       "    .dataframe tbody tr th:only-of-type {\n",
       "        vertical-align: middle;\n",
       "    }\n",
       "\n",
       "    .dataframe tbody tr th {\n",
       "        vertical-align: top;\n",
       "    }\n",
       "\n",
       "    .dataframe thead th {\n",
       "        text-align: right;\n",
       "    }\n",
       "</style>\n",
       "<table border=\"1\" class=\"dataframe\">\n",
       "  <thead>\n",
       "    <tr style=\"text-align: right;\">\n",
       "      <th></th>\n",
       "      <th>Name</th>\n",
       "      <th>Address</th>\n",
       "      <th>City</th>\n",
       "      <th>Contact</th>\n",
       "    </tr>\n",
       "  </thead>\n",
       "  <tbody>\n",
       "    <tr>\n",
       "      <th>0</th>\n",
       "      <td>Trellis Beauty</td>\n",
       "      <td>Lafayette Village</td>\n",
       "      <td>8480 Honeycutt Rd. Suite 114</td>\n",
       "      <td>(919) 703-0764</td>\n",
       "    </tr>\n",
       "    <tr>\n",
       "      <th>1</th>\n",
       "      <td>Citrine Skin &amp; Lash Spa</td>\n",
       "      <td>800 Salem Woods Drive Suite 204</td>\n",
       "      <td>Raleigh, NC 27615</td>\n",
       "      <td>(919) 972-1935</td>\n",
       "    </tr>\n",
       "    <tr>\n",
       "      <th>2</th>\n",
       "      <td>Sherlocks Glass</td>\n",
       "      <td>3801 Hillsborough St. #101</td>\n",
       "      <td>Raleigh, NC 27607</td>\n",
       "      <td>(919) 977-9481</td>\n",
       "    </tr>\n",
       "    <tr>\n",
       "      <th>3</th>\n",
       "      <td>Bungalow</td>\n",
       "      <td>339 W. Main Street</td>\n",
       "      <td>Durham, NC 27701</td>\n",
       "      <td>(919) 973-2449</td>\n",
       "    </tr>\n",
       "    <tr>\n",
       "      <th>4</th>\n",
       "      <td>Raleigh Provisions</td>\n",
       "      <td>107 E. Davie Street</td>\n",
       "      <td>Raleigh, NC 27601</td>\n",
       "      <td>(984) 233-5600</td>\n",
       "    </tr>\n",
       "  </tbody>\n",
       "</table>\n",
       "</div>"
      ],
      "text/plain": [
       "                      Name                          Address  \\\n",
       "0           Trellis Beauty                Lafayette Village   \n",
       "1  Citrine Skin & Lash Spa  800 Salem Woods Drive Suite 204   \n",
       "2          Sherlocks Glass       3801 Hillsborough St. #101   \n",
       "3                 Bungalow               339 W. Main Street   \n",
       "4       Raleigh Provisions              107 E. Davie Street   \n",
       "\n",
       "                           City         Contact  \n",
       "0  8480 Honeycutt Rd. Suite 114  (919) 703-0764  \n",
       "1             Raleigh, NC 27615  (919) 972-1935  \n",
       "2             Raleigh, NC 27607  (919) 977-9481  \n",
       "3              Durham, NC 27701  (919) 973-2449  \n",
       "4             Raleigh, NC 27601  (984) 233-5600  "
      ]
     },
     "execution_count": 17,
     "metadata": {},
     "output_type": "execute_result"
    }
   ],
   "source": [
    "dataFrame.head()"
   ]
  },
  {
   "cell_type": "code",
   "execution_count": 18,
   "metadata": {},
   "outputs": [],
   "source": [
    "conn = sqlite3.connect('DB4.db') #NOTE THAT EVERYTIME FOR NEW FILE YOU HAVE CHANGE THE NAME DB1 TO SOMEHTING ELSE EXAMPLE\n",
    "                                 #DB2 OR ANY OTHER"
   ]
  },
  {
   "cell_type": "code",
   "execution_count": 19,
   "metadata": {},
   "outputs": [],
   "source": [
    "c = conn.cursor()"
   ]
  },
  {
   "cell_type": "code",
   "execution_count": 20,
   "metadata": {},
   "outputs": [
    {
     "data": {
      "text/plain": [
       "'Name varchar, Address varchar, City varchar, Contact varchar'"
      ]
     },
     "execution_count": 20,
     "metadata": {},
     "output_type": "execute_result"
    }
   ],
   "source": [
    "query=[]\n",
    "for i in dataFrame_columns:\n",
    "    query.append(i+' varchar')\n",
    "    \n",
    "\", \".join(query)    "
   ]
  },
  {
   "cell_type": "code",
   "execution_count": 21,
   "metadata": {},
   "outputs": [],
   "source": [
    "c.execute(f'CREATE TABLE BRANDS ({query})')\n",
    "conn.commit()          "
   ]
  },
  {
   "cell_type": "code",
   "execution_count": 22,
   "metadata": {},
   "outputs": [],
   "source": [
    "dataFrame.to_sql('BRANDS', conn, if_exists='replace', index = True)"
   ]
  },
  {
   "cell_type": "code",
   "execution_count": 23,
   "metadata": {},
   "outputs": [
    {
     "name": "stdout",
     "output_type": "stream",
     "text": [
      "(0, 'Trellis Beauty', 'Lafayette Village', '8480 Honeycutt Rd. Suite 114', '(919) 703-0764')\n",
      "(1, 'Citrine Skin & Lash Spa', '800 Salem Woods Drive Suite 204', 'Raleigh, NC 27615', '(919) 972-1935')\n",
      "(2, 'Sherlocks Glass', '3801 Hillsborough St. #101', 'Raleigh, NC 27607', '(919) 977-9481')\n",
      "(3, 'Bungalow', '339 W. Main Street', 'Durham, NC 27701', '(919) 973-2449')\n",
      "(4, 'Raleigh Provisions', '107 E. Davie Street', 'Raleigh, NC 27601', '(984) 233-5600')\n",
      "(5, 'Bowerbird Flowers + Apothecary', '1322FordhamBlvd', 'Chapel Hill, NC 27612', '(984) 234-0024')\n",
      "(6, 'Herbivore', '1809-A Glenwood Ave', 'Raleigh, NC 27608', '(919) 748-8928')\n",
      "(7, 'Method Wellness', '2272 W Great Neck Rd.', 'Virginia Beach, VA 23451', '(757) 807-7127')\n",
      "(8, 'Purify Infrared Sauna', 'Purify Patterson', '5609 Patterson Ave', '(804) 573-9925')\n",
      "(9, 'Purify Short Pump', '301 Maltby Boulevard', 'Suite C, Henrico, VA 23233', '(804) 360-0003')\n",
      "(10, 'Kathy Fielder Boutique', '2000 Greenville Avenue', 'Dallas, TX 75206', '(214) 515-9109')\n"
     ]
    }
   ],
   "source": [
    "c.execute('''  \n",
    "SELECT * FROM('BRANDS');\n",
    "          ''')\n",
    "\n",
    "for row in c.fetchall():\n",
    "    print (row)               #this is to view data that is converted\n",
    "c.close()   "
   ]
  },
  {
   "cell_type": "code",
   "execution_count": 14,
   "metadata": {},
   "outputs": [],
   "source": [
    "# if you want to view online then go to https://inloop.github.io/sqlite-viewer/ and drag and drop your file having extension .db"
   ]
  }
 ],
 "metadata": {
  "kernelspec": {
   "display_name": "Python 3",
   "language": "python",
   "name": "python3"
  },
  "language_info": {
   "codemirror_mode": {
    "name": "ipython",
    "version": 3
   },
   "file_extension": ".py",
   "mimetype": "text/x-python",
   "name": "python",
   "nbconvert_exporter": "python",
   "pygments_lexer": "ipython3",
   "version": "3.7.5"
  }
 },
 "nbformat": 4,
 "nbformat_minor": 2
}
